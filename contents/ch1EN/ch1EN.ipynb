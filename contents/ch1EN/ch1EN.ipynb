{
  "nbformat": 4,
  "nbformat_minor": 0,
  "metadata": {
    "colab": {
      "name": "ch1EN.ipynb",
      "provenance": [],
      "authorship_tag": "ABX9TyM4mFgd7WiqK5T9WVmRZ58C",
      "include_colab_link": true
    },
    "kernelspec": {
      "name": "python3",
      "display_name": "Python 3"
    },
    "language_info": {
      "name": "python"
    }
  },
  "cells": [
    {
      "cell_type": "markdown",
      "metadata": {
        "id": "view-in-github",
        "colab_type": "text"
      },
      "source": [
        "<a href=\"https://colab.research.google.com/github/githubdcw/lecture-notes-on-EM/blob/master/ch1EN.ipynb\" target=\"_parent\"><img src=\"https://colab.research.google.com/assets/colab-badge.svg\" alt=\"Open In Colab\"/></a>"
      ]
    },
    {
      "cell_type": "markdown",
      "metadata": {
        "id": "Q1iWEOp5AJRd"
      },
      "source": [
        "<table style=\"width:100%\">\n",
        "  <tr>\n",
        "    <th> <a href=\"../../README.md\">MAIN</a></th>\n",
        "    <th> <a href=\"../../contentEN.md\">Contents</a></th>\n",
        "    <th> <a href=\"../../contentTH.md\">สารบัญ</a></th>\n",
        "  </tr>\n",
        "</table>\n",
        "\n",
        "\n",
        "# Chapter 1: Vector Analysis and Coordinate Systems  \n",
        "\n",
        "$\\mathbf r = x \\mathbf a_x + y \\mathbf a_y + z \\mathbf a_z$  \n",
        "$$\\mathbf r = x \\mathbf a_x + y \\mathbf a_y + z \\mathbf a_z$$  \n",
        "$$\\mathbf A = A_x \\mathbf a_x + A_y \\mathbf a_y + A_z \\mathbf a_z$$  \n",
        "$$\\mathbf A = A_\\rho \\mathbf a_\\rho + A_\\phi \\mathbf a_\\phi + A_z \\mathbf a_z$$\n",
        "\n"
      ]
    }
  ]
}
