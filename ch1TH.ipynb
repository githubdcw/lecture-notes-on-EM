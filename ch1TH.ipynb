{
  "nbformat": 4,
  "nbformat_minor": 0,
  "metadata": {
    "colab": {
      "name": "ch1TH.ipynb",
      "provenance": [],
      "authorship_tag": "ABX9TyN6deI6ZdBrjwRrnTodMbJD",
      "include_colab_link": true
    },
    "kernelspec": {
      "name": "python3",
      "display_name": "Python 3"
    },
    "language_info": {
      "name": "python"
    }
  },
  "cells": [
    {
      "cell_type": "markdown",
      "metadata": {
        "id": "view-in-github",
        "colab_type": "text"
      },
      "source": [
        "<a href=\"https://colab.research.google.com/github/githubdcw/lecture-notes-on-EM/blob/master/ch1TH.ipynb\" target=\"_parent\"><img src=\"https://colab.research.google.com/assets/colab-badge.svg\" alt=\"Open In Colab\"/></a>"
      ]
    },
    {
      "cell_type": "markdown",
      "metadata": {
        "id": "Q1iWEOp5AJRd"
      },
      "source": [
        "| [หน้าหลัก](../../README.md) | [Contents](../contentEN.md) | [สารบัญ](../contentTH.md) |\n",
        "| ---------- | ---------- | -------- |\n",
        "\n",
        "\n",
        "<!--| [หน้าหลัก] | [Contents] | [สารบัญ] |\n",
        "| ---------- | ---------- | -------- | \n",
        "-->  \n",
        "\n",
        "# บทที่ 1: การวิเคราะห์เวคเตอร์ และ ระบบพิกัด  \n",
        "\n",
        "$\\mathbf r = x \\mathbf a_x + y \\mathbf a_y + z \\mathbf a_z$  \n",
        "$$\\mathbf r = x \\mathbf a_x + y \\mathbf a_y + z \\mathbf a_z$$  \n",
        "$$\\mathbf A = A_x \\mathbf a_x + A_y \\mathbf a_y + A_z \\mathbf a_z$$  \n",
        "$$\\mathbf A = A_\\rho \\mathbf a_\\rho + A_\\phi \\mathbf a_\\phi + A_z \\mathbf a_z$$\n",
        "\n"
      ]
    },
    {
      "cell_type": "markdown",
      "metadata": {
        "id": "ek8z0q3IC1r0"
      },
      "source": [
        ""
      ]
    }
  ]
}
